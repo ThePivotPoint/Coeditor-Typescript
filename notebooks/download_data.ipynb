{
 "cells": [
  {
   "cell_type": "code",
   "execution_count": 2,
   "metadata": {},
   "outputs": [
    {
     "name": "stdout",
     "output_type": "stream",
     "text": [
      "当前文件路径: /Users/feiyu/Desktop/code/NewCoEditor/src/coeditor/common.py\n",
      "当前目录: /Users/feiyu/Desktop/code/NewCoEditor/src/coeditor\n",
      "父目录: /Users/feiyu/Desktop/code/NewCoEditor/src\n"
     ]
    }
   ],
   "source": [
    "# %load_ext autoreload\n",
    "# %autoreload 2\n",
    "import sys\n",
    "sys.path.insert(0,r\"/Users/feiyu/Desktop/code/NewCoEditor/src\")\n",
    "from coeditor.common import *\n",
    "import os\n",
    "\n",
    "import requests\n",
    "import shutil\n",
    "import random\n",
    "\n",
    "os.chdir(proj_root())"
   ]
  },
  {
   "cell_type": "code",
   "execution_count": 3,
   "metadata": {},
   "outputs": [],
   "source": [
    "import requests\n",
    "import dateparser\n",
    "from coeditor.git import GitRepo\n",
    "import warnings\n",
    "import time\n",
    "\n",
    "\n",
    "def request_page(page: int, license: str, n_items: int = 10):\n",
    "    if Path(\"config/github_token.txt\").exists():\n",
    "        token = Path(\"config/github_token.txt\").read_text().strip()\n",
    "        headers = {\n",
    "            \"Authorization\": f\"Bearer {token}\"\n",
    "        }\n",
    "    else:\n",
    "        headers = None\n",
    "    return requests.get(\n",
    "        f\"https://api.github.com/search/repositories?q=NOT+interview+NOT+reference+NOT+course+NOT+cheatsheet+created%3A>2018-01-01+stars%3A>100+size%3A<20000+language%3ATypescript+license%3A{license}&sort=stars&order=desc&per_page={n_items}&page={page}\",\n",
    "        headers=headers,\n",
    "    ).json()\n",
    "\n",
    "\n",
    "def fetch_python_repos(license2counts: dict[str, int]):\n",
    "    n_repos = sum(license2counts.values())\n",
    "    repos = dict[str, GitRepo]()\n",
    "    with tqdm(total=n_repos) as pbar:\n",
    "        for license, n_repos in license2counts.items():\n",
    "            for i in range(1, n_repos // 100 + 1):\n",
    "                page = request_page(i, n_items=100, license=license)\n",
    "                if (msg := page.get(\"message\", \"\")) and msg.startswith(\n",
    "                    \"API rate limit exceeded\"\n",
    "                ):\n",
    "                    print(\"API rate limit exceeded, now wait for 1 min\")\n",
    "                    time.sleep(60)\n",
    "                    continue\n",
    "                if not page.get(\"items\"):\n",
    "                    print(\"Fetching page failed:\")\n",
    "                    print(page)\n",
    "                    break\n",
    "                for item in page[\"items\"]:\n",
    "                    r = GitRepo.from_github_item(item)\n",
    "                    if not r.archived:\n",
    "                        if r.authorname() in repos:\n",
    "                            print(f\"[warning] {r.authorname()} already in repos\")\n",
    "                        repos[r.authorname()] = r\n",
    "                pbar.update(len(page[\"items\"]))\n",
    "    return [repos[k] for k in list(repos)]\n"
   ]
  },
  {
   "cell_type": "code",
   "execution_count": 4,
   "metadata": {},
   "outputs": [
    {
     "data": {
      "text/plain": [
       "{'mit': 9636, 'apache-2.0': 1173, 'bsd-3-clause': 127, 'bsd-2-clause': 19}"
      ]
     },
     "execution_count": 4,
     "metadata": {},
     "output_type": "execute_result"
    }
   ],
   "source": [
    "{\n",
    "    l: int(request_page(0, l, n_items=1)[\"total_count\"])\n",
    "    for l in [\"mit\", \"apache-2.0\", \"bsd-3-clause\", \"bsd-2-clause\"]\n",
    "}\n"
   ]
  },
  {
   "cell_type": "code",
   "execution_count": 5,
   "metadata": {},
   "outputs": [
    {
     "name": "stderr",
     "output_type": "stream",
     "text": [
      " 20%|██        | 500/2500 [00:13<00:56, 35.41it/s]"
     ]
    },
    {
     "name": "stdout",
     "output_type": "stream",
     "text": [
      "API rate limit exceeded, now wait for 1 min\n"
     ]
    },
    {
     "name": "stderr",
     "output_type": "stream",
     "text": [
      " 60%|██████    | 1500/2500 [01:41<00:35, 28.39it/s]"
     ]
    },
    {
     "name": "stdout",
     "output_type": "stream",
     "text": [
      "API rate limit exceeded, now wait for 1 min\n"
     ]
    },
    {
     "name": "stderr",
     "output_type": "stream",
     "text": [
      " 77%|███████▋  | 1927/2500 [02:55<00:52, 10.96it/s]"
     ]
    },
    {
     "name": "stdout",
     "output_type": "stream",
     "text": [
      "Fetching page failed:\n",
      "{'total_count': 127, 'incomplete_results': False, 'items': []}\n",
      "Repos: 1798\n"
     ]
    },
    {
     "name": "stderr",
     "output_type": "stream",
     "text": [
      "\n"
     ]
    }
   ],
   "source": [
    "license2counts = {\n",
    "    \"mit\": 1000,\n",
    "    \"apache-2.0\": 1000,\n",
    "    \"bsd-3-clause\": 500,\n",
    "}\n",
    "\n",
    "all_repos = fetch_python_repos(license2counts)\n",
    "print(\"Repos:\", len(all_repos))"
   ]
  },
  {
   "cell_type": "code",
   "execution_count": 6,
   "metadata": {},
   "outputs": [],
   "source": [
    "# !筛选repo\n",
    "\n",
    "all_repos=all_repos[:3]"
   ]
  },
  {
   "cell_type": "code",
   "execution_count": 7,
   "metadata": {},
   "outputs": [
    {
     "name": "stderr",
     "output_type": "stream",
     "text": [
      "downloading repos:   0%|          | 0/3 [00:00<?, ?it/s]"
     ]
    },
    {
     "name": "stdout",
     "output_type": "stream",
     "text": [
      "当前文件路径: /Users/feiyu/Desktop/code/NewCoEditor/src/coeditor/common.py当前文件路径:\n",
      " 当前目录:/Users/feiyu/Desktop/code/NewCoEditor/src/coeditor/common.py \n",
      "/Users/feiyu/Desktop/code/NewCoEditor/src/coeditor\n",
      "当前目录: /Users/feiyu/Desktop/code/NewCoEditor/src/coeditor\n",
      "父目录:当前文件路径:父目录: /Users/feiyu/Desktop/code/NewCoEditor/src\n",
      "  /Users/feiyu/Desktop/code/NewCoEditor/src/coeditor/common.py/Users/feiyu/Desktop/code/NewCoEditor/src\n",
      "\n",
      "当前目录: /Users/feiyu/Desktop/code/NewCoEditor/src/coeditor\n",
      "父目录: /Users/feiyu/Desktop/code/NewCoEditor/src\n"
     ]
    },
    {
     "name": "stderr",
     "output_type": "stream",
     "text": [
      "downloading repos: 100%|██████████| 3/3 [00:05<00:00,  1.68s/it]"
     ]
    },
    {
     "name": "stdout",
     "output_type": "stream",
     "text": [
      "Successfully downloaded: 3\n"
     ]
    },
    {
     "name": "stderr",
     "output_type": "stream",
     "text": [
      "\n"
     ]
    }
   ],
   "source": [
    "dataset_name = \"perm2k_ts\"  # permissive licensed 2K repos\n",
    "repos_dir = get_dataset_dir(dataset_name)\n",
    "(repos_dir / \"downloading\").mkdir(exist_ok=True, parents=True)\n",
    "(repos_dir / \"downloaded\").mkdir(exist_ok=True, parents=True)\n",
    "\n",
    "downloaded = pmap(\n",
    "    GitRepo.download,\n",
    "    all_repos,\n",
    "    key_args={\"repos_dir\": repos_dir, \"full_history\": True},\n",
    "    desc=\"downloading repos\",\n",
    "    max_workers=4,\n",
    "    chunksize=1,\n",
    ")\n",
    "\n",
    "print(\"Successfully downloaded:\", sum(downloaded))\n",
    "downloaded_repos = [r for r, d in zip(all_repos, downloaded) if d]\n"
   ]
  },
  {
   "cell_type": "code",
   "execution_count": null,
   "metadata": {},
   "outputs": [],
   "source": []
  },
  {
   "cell_type": "code",
   "execution_count": 8,
   "metadata": {},
   "outputs": [
    {
     "name": "stdout",
     "output_type": "stream",
     "text": [
      "Successfully downloaded: 3\n"
     ]
    }
   ],
   "source": [
    "print(\"Successfully downloaded:\", len(downloaded_repos))"
   ]
  },
  {
   "cell_type": "code",
   "execution_count": 9,
   "metadata": {},
   "outputs": [
    {
     "name": "stderr",
     "output_type": "stream",
     "text": [
      "100%|██████████| 3/3 [00:00<00:00, 23.33it/s]"
     ]
    },
    {
     "name": "stdout",
     "output_type": "stream",
     "text": [
      "After filtering by commits: 3\n"
     ]
    },
    {
     "name": "stderr",
     "output_type": "stream",
     "text": [
      "\n"
     ]
    }
   ],
   "source": [
    "# now filter out repos with less than 50 commits\n",
    "filtered_repos = [r for r in tqdm(downloaded_repos) if r.count_commits(repos_dir) >= 50]\n",
    "print(\"After filtering by commits:\", len(filtered_repos))"
   ]
  },
  {
   "cell_type": "code",
   "execution_count": 10,
   "metadata": {},
   "outputs": [
    {
     "name": "stderr",
     "output_type": "stream",
     "text": [
      "/opt/miniconda3/envs/guohx_coeditor/lib/python3.11/site-packages/tqdm/auto.py:21: TqdmWarning: IProgress not found. Please update jupyter and ipywidgets. See https://ipywidgets.readthedocs.io/en/stable/user_install.html\n",
      "  from .autonotebook import tqdm as notebook_tqdm\n",
      "getting repo signatures:   0%|          | 0/3 [00:00<?, ?it/s]"
     ]
    },
    {
     "name": "stdout",
     "output_type": "stream",
     "text": [
      "当前文件路径: /Users/feiyu/Desktop/code/NewCoEditor/src/coeditor/common.py\n",
      "当前文件路径:当前目录:  /Users/feiyu/Desktop/code/NewCoEditor/src/coeditor/common.py/Users/feiyu/Desktop/code/NewCoEditor/src/coeditor\n",
      "\n",
      "父目录: /Users/feiyu/Desktop/code/NewCoEditor/src\n",
      "当前文件路径:当前目录: /Users/feiyu/Desktop/code/NewCoEditor/src/coeditor/common.py\n",
      "当前目录: /Users/feiyu/Desktop/code/NewCoEditor/src/coeditor \n",
      "/Users/feiyu/Desktop/code/NewCoEditor/src/coeditor父目录:\n",
      " /Users/feiyu/Desktop/code/NewCoEditor/src\n",
      "父目录: /Users/feiyu/Desktop/code/NewCoEditor/src\n"
     ]
    },
    {
     "name": "stderr",
     "output_type": "stream",
     "text": [
      "getting repo signatures: 100%|██████████| 3/3 [01:32<00:00, 30.72s/it]"
     ]
    },
    {
     "name": "stdout",
     "output_type": "stream",
     "text": [
      "Totoal duplicates: 0\n",
      "After filtering duplicates: 3\n"
     ]
    },
    {
     "name": "stderr",
     "output_type": "stream",
     "text": [
      "\n"
     ]
    }
   ],
   "source": [
    "from coeditor.dataset import get_repo_signature\n",
    "\n",
    "repo_paths = [repos_dir / \"downloaded\" / r.authorname() for r in filtered_repos]\n",
    "sigs = pmap(get_repo_signature, repo_paths, desc=\"getting repo signatures\", chunksize=1)\n",
    "sig_groups = groupby(enumerate(sigs), lambda x: x[1])\n",
    "\n",
    "duplicates = set[str]()\n",
    "for sig, group in sig_groups.items():\n",
    "    if len(group) > 1:\n",
    "        print(f\"{len(group)} repos have the same signature {sig}:\")\n",
    "        for i, _ in group:\n",
    "            print(f\"  {downloaded_repos[i].authorname()}\")\n",
    "        for i, _ in group[1:]:\n",
    "            duplicates.add(downloaded_repos[i].authorname())\n",
    "\n",
    "print(\"Totoal duplicates:\", len(duplicates))\n",
    "filtered_repos = [r for r in filtered_repos if r.authorname() not in duplicates]\n",
    "print(\"After filtering duplicates:\", len(filtered_repos))\n"
   ]
  },
  {
   "cell_type": "code",
   "execution_count": 11,
   "metadata": {},
   "outputs": [
    {
     "name": "stdout",
     "output_type": "stream",
     "text": [
      "n_test=1, n_valid=1, n_train=1\n"
     ]
    }
   ],
   "source": [
    "n_test = 1 # !\n",
    "n_valid = 1\n",
    "n_train = len(filtered_repos) - n_test - n_valid\n",
    "print(f\"n_test={n_test}, n_valid={n_valid}, n_train={n_train}\")\n",
    "\n",
    "random.seed(42)\n",
    "filtered_repos.sort(key=lambda r: r.authorname())\n",
    "random.shuffle(filtered_repos)\n",
    "\n",
    "split = {\n",
    "    \"test\": filtered_repos[:n_test],\n",
    "    \"valid\": filtered_repos[n_test : n_test + n_valid],\n",
    "    \"train\": filtered_repos[n_test + n_valid :][:n_train],\n",
    "}\n",
    "\n",
    "pickle_dump(repos_dir / \"repos_split.pkl\", split)\n"
   ]
  },
  {
   "cell_type": "code",
   "execution_count": 12,
   "metadata": {},
   "outputs": [
    {
     "name": "stderr",
     "output_type": "stream",
     "text": [
      "moving test: 100%|██████████| 1/1 [00:00<00:00, 561.79it/s]\n",
      "moving valid: 100%|██████████| 1/1 [00:00<00:00, 758.05it/s]\n",
      "moving train: 100%|██████████| 1/1 [00:00<00:00, 680.67it/s]\n"
     ]
    }
   ],
   "source": [
    "# move downloaded repos to their split group\n",
    "for group, rs in split.items():\n",
    "    for repo in tqdm(rs, desc=f\"moving {group}\"):\n",
    "        dest = repos_dir / \"repos\" / group\n",
    "        dest.mkdir(exist_ok=True, parents=True)\n",
    "        shutil.move(repos_dir / \"downloaded\" / repo.authorname(), dest)\n"
   ]
  },
  {
   "cell_type": "code",
   "execution_count": null,
   "metadata": {},
   "outputs": [],
   "source": []
  }
 ],
 "metadata": {
  "kernelspec": {
   "display_name": "guohx_coeditor",
   "language": "python",
   "name": "python3"
  },
  "language_info": {
   "codemirror_mode": {
    "name": "ipython",
    "version": 3
   },
   "file_extension": ".py",
   "mimetype": "text/x-python",
   "name": "python",
   "nbconvert_exporter": "python",
   "pygments_lexer": "ipython3",
   "version": "3.11.13"
  },
  "orig_nbformat": 4
 },
 "nbformat": 4,
 "nbformat_minor": 2
}
